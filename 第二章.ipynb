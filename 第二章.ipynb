{
 "cells": [
  {
   "cell_type": "markdown",
   "id": "7c41b58f-12cb-438d-984f-bbf946080cc1",
   "metadata": {},
   "source": [
    "## 第2讲 基于观测器的残差生成"
   ]
  },
  {
   "cell_type": "markdown",
   "id": "e09b4f39-d109-4dfb-a903-23037e68ef4c",
   "metadata": {},
   "source": [
    "### 例2. 开环不稳定系统直接利用系统的模型生成残差"
   ]
  },
  {
   "cell_type": "markdown",
   "id": "81796394-57c8-47d9-92d8-4da981c91325",
   "metadata": {},
   "source": [
    "#### 定义系统参数"
   ]
  },
  {
   "cell_type": "markdown",
   "id": "fae563bb-5094-469b-be50-5952b5ddf32c",
   "metadata": {},
   "source": [
    "导入numpy模块"
   ]
  },
  {
   "cell_type": "code",
   "execution_count": 1,
   "id": "eb8cc59d-aa98-4e79-a654-d128ac4fd5c7",
   "metadata": {},
   "outputs": [],
   "source": [
    "import numpy as np"
   ]
  },
  {
   "cell_type": "markdown",
   "id": "4c746248-a61c-4452-8c4c-18cc98ad6b75",
   "metadata": {},
   "source": [
    "系统参数矩阵\n",
    "$$\n",
    "A = \\begin{bmatrix}\n",
    "0 & 1\\\\\n",
    "2 & -1\n",
    "\\end{bmatrix}, \n",
    "B = \\begin{bmatrix}\n",
    " 0 \\\\\n",
    " 1\n",
    "\\end{bmatrix},\n",
    "C = \\begin{bmatrix}\n",
    "1 & 0\n",
    "\\end{bmatrix},\n",
    "F = \\begin{bmatrix}\n",
    " 0 \\\\\n",
    " 1\n",
    "\\end{bmatrix}\n",
    "$$"
   ]
  },
  {
   "cell_type": "code",
   "execution_count": 2,
   "id": "bc7caed6-642c-42bf-8f4d-29f327bc0201",
   "metadata": {},
   "outputs": [],
   "source": [
    "A = np.array([[0,1],\n",
    "              [2,-1]])\n",
    "B = np.array([[0],[1]])\n",
    "C = np.array([[1,0]])\n",
    "F = np.array([[0],[1]])\n",
    "n_x = A.shape[0]\n",
    "n_u = B.shape[1]\n",
    "n_f = F.shape[1]\n",
    "n_y = C.shape[0]"
   ]
  },
  {
   "cell_type": "markdown",
   "id": "18c710af-1d86-4205-b3d1-0083f6e2650e",
   "metadata": {},
   "source": [
    "#### 设置仿真时间"
   ]
  },
  {
   "cell_type": "code",
   "execution_count": 3,
   "id": "35350174-edc0-4173-80e6-5fb7ee5969a4",
   "metadata": {},
   "outputs": [],
   "source": [
    "t_max = 10\n",
    "dt = 0.01\n",
    "tspan = np.arange(0, t_max, dt) \n",
    "Nk = len(tspan)"
   ]
  },
  {
   "cell_type": "markdown",
   "id": "b2703277-983b-4e00-aed4-997dcfe47a14",
   "metadata": {},
   "source": [
    "#### 预定义数据存储数组"
   ]
  },
  {
   "cell_type": "code",
   "execution_count": 4,
   "id": "fabfd7af-c322-456f-b7e6-1ec7e7e5be48",
   "metadata": {},
   "outputs": [],
   "source": [
    "x = np.zeros((n_x,Nk))\n",
    "xhat = np.zeros((n_x,Nk))\n",
    "u = np.zeros((n_u,Nk))\n",
    "y = np.zeros((n_y,Nk))\n",
    "yhat = np.zeros((n_y,Nk))\n",
    "r = np.zeros((n_y,Nk))"
   ]
  },
  {
   "cell_type": "markdown",
   "id": "dfb0c46c-9225-403d-ac42-56de1f04387f",
   "metadata": {},
   "source": [
    "#### 变量初始化 \n",
    "变量初值\n",
    "$$ \n",
    "x(0) = \\begin{bmatrix} \n",
    "0 \\\\\n",
    "0.01\n",
    "\\end{bmatrix} ,\n",
    "\\hat{x}(0) = \\begin{bmatrix} \n",
    "0 \\\\\n",
    "0\n",
    "\\end{bmatrix} ,\n",
    "y(0) = Cx(0),\n",
    "$$\n",
    "$$ \n",
    "\\hat{y}(0) = C\\hat{x}(0),\n",
    "u(0) = -3y(0) + 1,\n",
    "r(0) = y(0) - \\hat{y}(0)\n",
    "$$"
   ]
  },
  {
   "cell_type": "code",
   "execution_count": 5,
   "id": "c7ea7562-fca4-4697-b21d-e3bf3e446ae9",
   "metadata": {},
   "outputs": [],
   "source": [
    "x[:,[0]] = np.array([[0],[0.01]]) \n",
    "xhat[:,[0]] = np.array([[0],[0]]) \n",
    "y[:,[0]] = C@x[:,[0]]\n",
    "yhat[:,[0]] = C@xhat[:,[0]]\n",
    "u[:,[0]] = -3*y[:,[0]] + 1\n",
    "r[:,[0]] = y[:,[0]] - yhat[:,[0]]"
   ]
  },
  {
   "cell_type": "markdown",
   "id": "acefa20d-d419-45cf-bb81-e1fed2e2c7c5",
   "metadata": {},
   "source": [
    "#### 进行数值仿真 \n",
    "仿真实际系统\n",
    "$$\n",
    "\\left\\{\n",
    "\\begin{array}{l}\n",
    "\\dot{x}(t) = Ax(t) + Bu(t) + Ff(t) \\\\\n",
    "y(t) = Cx(t)\n",
    "\\end{array}\n",
    "\\right.\n",
    "$$\n",
    "系统模型\n",
    "$$\n",
    "\\left\\{\n",
    "\\begin{array}{l}\n",
    "\\dot{\\hat{x}}(t) = A\\hat{x}(t) + Bu(t) \\\\\n",
    "\\hat{y}(t) = C\\hat{x}(t)\n",
    "\\end{array}\n",
    "\\right.\n",
    "$$  \n",
    "残差\n",
    "$$\n",
    "r(t) = y(t) - \\hat{y}(t)\n",
    "$$  "
   ]
  },
  {
   "cell_type": "code",
   "execution_count": 6,
   "id": "4e94a964-94d7-42d6-b9cf-900b2a26d973",
   "metadata": {},
   "outputs": [],
   "source": [
    "for k in range(1,Nk):\n",
    "    # 仿真实际系统\n",
    "    # 无故障\n",
    "    f = 0\n",
    "\n",
    "    # 设置故障\n",
    "    # if dt * k > 5: # t>5时发生故障\n",
    "    #     f = 1\n",
    "    # else:\n",
    "    #     f = 0\n",
    "    \n",
    "    dx = A@x[:,[k-1]] + B@u[:,[k-1]] + F*f\n",
    "    x[:,[k]] = x[:,[k-1]] + dx*dt\n",
    "    y[:,[k]] = C@x[:,[k]]\n",
    "    u[:,[k]] = -3*y[:,[k]] + 1\n",
    "\n",
    "    # 系统模型\n",
    "    dxhat = A@xhat[:,[k-1]] + B@u[:,[k-1]];\n",
    "    xhat[:,[k]] = xhat[:,[k-1]] + dxhat*dt;\n",
    "    yhat[:,[k]] = C@xhat[:,[k]];\n",
    "\n",
    "    # 残差\n",
    "    r[:,[k]] = y[:,[k]] - yhat[:,[k]];"
   ]
  },
  {
   "cell_type": "markdown",
   "id": "b5ed6654-bd5e-40c7-9e91-2299c6825191",
   "metadata": {},
   "source": [
    "#### 画图"
   ]
  },
  {
   "cell_type": "code",
   "execution_count": 7,
   "id": "7a87cc61-422e-4ea8-aba4-c6bf3eb02bed",
   "metadata": {},
   "outputs": [],
   "source": [
    "# 导入matplotlib模块中的pyplot函数\n",
    "import matplotlib.pyplot as plt"
   ]
  },
  {
   "cell_type": "markdown",
   "id": "e50eba24-6bd8-4e2a-ab19-887dae84e866",
   "metadata": {},
   "source": [
    "画残差r的曲线"
   ]
  },
  {
   "cell_type": "code",
   "execution_count": 8,
   "id": "32d609eb-de74-4725-8e68-548c8da8c1c0",
   "metadata": {},
   "outputs": [
    {
     "data": {
      "image/png": "[encoded data removed]",
      "text/plain": [
       "<Figure size 640x480 with 1 Axes>"
      ]
     },
     "metadata": {},
     "output_type": "display_data"
    }
   ],
   "source": [
    "plt.figure()\n",
    "plt.plot(tspan,r[[0],:].T)\n",
    "plt.xlim([0,t_max])\n",
    "plt.xlabel('$t$')\n",
    "plt.ylabel('$r(t)$')\n",
    "plt.grid()\n",
    "plt.show()"
   ]
  }
 ],
 "metadata": {
  "kernelspec": {
   "display_name": "Python 3 (ipykernel)",
   "language": "python",
   "name": "python3"
  },
  "language_info": {
   "codemirror_mode": {
    "name": "ipython",
    "version": 3
   },
   "file_extension": ".py",
   "mimetype": "text/x-python",
   "name": "python",
   "nbconvert_exporter": "python",
   "pygments_lexer": "ipython3",
   "version": "3.8.10"
  }
 },
 "nbformat": 4,
 "nbformat_minor": 5
}
